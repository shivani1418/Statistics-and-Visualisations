{
 "cells": [
  {
   "cell_type": "code",
   "execution_count": 1,
   "id": "7b8233e4",
   "metadata": {},
   "outputs": [],
   "source": [
    "import pandas as pd \n",
    "import numpy as np"
   ]
  },
  {
   "cell_type": "code",
   "execution_count": 2,
   "id": "f033e9db",
   "metadata": {},
   "outputs": [
    {
     "name": "stderr",
     "output_type": "stream",
     "text": [
      "/tmp/ipykernel_6563/598522195.py:1: DtypeWarning: Columns (5,6,7,9,13) have mixed types. Specify dtype option on import or set low_memory=False.\n",
      "  df=pd.read_csv('ER Excel Case Study_October 2021.csv')\n"
     ]
    }
   ],
   "source": [
    "df=pd.read_csv('ER Excel Case Study_October 2021.csv')"
   ]
  },
  {
   "cell_type": "code",
   "execution_count": 3,
   "id": "a0266115",
   "metadata": {},
   "outputs": [
    {
     "data": {
      "text/html": [
       "<div>\n",
       "<style scoped>\n",
       "    .dataframe tbody tr th:only-of-type {\n",
       "        vertical-align: middle;\n",
       "    }\n",
       "\n",
       "    .dataframe tbody tr th {\n",
       "        vertical-align: top;\n",
       "    }\n",
       "\n",
       "    .dataframe thead th {\n",
       "        text-align: right;\n",
       "    }\n",
       "</style>\n",
       "<table border=\"1\" class=\"dataframe\">\n",
       "  <thead>\n",
       "    <tr style=\"text-align: right;\">\n",
       "      <th></th>\n",
       "      <th>ModifiedStore</th>\n",
       "      <th>ModifiedStoreCode</th>\n",
       "      <th>ModifiedTxnDate</th>\n",
       "      <th>ModifiedTxnTime</th>\n",
       "      <th>ModifiedBillNo</th>\n",
       "      <th>UniqueItemName</th>\n",
       "      <th>UniqueItemCode</th>\n",
       "      <th>Barcode</th>\n",
       "      <th>ItemQty</th>\n",
       "      <th>ItemMRP</th>\n",
       "      <th>ItemGrossAmount</th>\n",
       "      <th>ItemNetAmount</th>\n",
       "      <th>ItemPaidAmount</th>\n",
       "      <th>ItemDiscountAmount</th>\n",
       "      <th>Customer Id</th>\n",
       "    </tr>\n",
       "  </thead>\n",
       "  <tbody>\n",
       "    <tr>\n",
       "      <th>0</th>\n",
       "      <td>Guwahati - Fancy Bazar</td>\n",
       "      <td>TLHOS0093</td>\n",
       "      <td>12-01-2017</td>\n",
       "      <td>10:44:52</td>\n",
       "      <td>CM/01426/Dec/17</td>\n",
       "      <td>PLAINS</td>\n",
       "      <td>8907300000000.00</td>\n",
       "      <td>8907300000000.00</td>\n",
       "      <td>1</td>\n",
       "      <td>1795</td>\n",
       "      <td>1795.0</td>\n",
       "      <td>1795.0</td>\n",
       "      <td>1795.0</td>\n",
       "      <td>0</td>\n",
       "      <td>1</td>\n",
       "    </tr>\n",
       "    <tr>\n",
       "      <th>1</th>\n",
       "      <td>Sikkim Namchi</td>\n",
       "      <td>TLHOS0039</td>\n",
       "      <td>12-01-2017</td>\n",
       "      <td>10:49:29</td>\n",
       "      <td>CM/00923/Dec/17</td>\n",
       "      <td>\\N</td>\n",
       "      <td>8907570000000.00</td>\n",
       "      <td>8907570000000.00</td>\n",
       "      <td>1</td>\n",
       "      <td>2695</td>\n",
       "      <td>2695.0</td>\n",
       "      <td>2195.0</td>\n",
       "      <td>2195.0</td>\n",
       "      <td>0</td>\n",
       "      <td>2</td>\n",
       "    </tr>\n",
       "    <tr>\n",
       "      <th>2</th>\n",
       "      <td>Dibrugarh</td>\n",
       "      <td>TLHOS0088</td>\n",
       "      <td>12-01-2017</td>\n",
       "      <td>10:54:50</td>\n",
       "      <td>CM/01900/Dec/17</td>\n",
       "      <td>\\N</td>\n",
       "      <td>8907570000000.00</td>\n",
       "      <td>8907570000000.00</td>\n",
       "      <td>1</td>\n",
       "      <td>1995</td>\n",
       "      <td>1995.0</td>\n",
       "      <td>1995.0</td>\n",
       "      <td>1995.0</td>\n",
       "      <td>0</td>\n",
       "      <td>3</td>\n",
       "    </tr>\n",
       "    <tr>\n",
       "      <th>3</th>\n",
       "      <td>Dibrugarh</td>\n",
       "      <td>TLHOS0088</td>\n",
       "      <td>12-01-2017</td>\n",
       "      <td>10:54:50</td>\n",
       "      <td>CM/01900/Dec/17</td>\n",
       "      <td>TROUSER</td>\n",
       "      <td>8907570000000.00</td>\n",
       "      <td>8907570000000.00</td>\n",
       "      <td>1</td>\n",
       "      <td>1695</td>\n",
       "      <td>1695.0</td>\n",
       "      <td>1695.0</td>\n",
       "      <td>1695.0</td>\n",
       "      <td>0</td>\n",
       "      <td>3</td>\n",
       "    </tr>\n",
       "    <tr>\n",
       "      <th>4</th>\n",
       "      <td>Dibrugarh</td>\n",
       "      <td>TLHOS0088</td>\n",
       "      <td>12-01-2017</td>\n",
       "      <td>10:54:50</td>\n",
       "      <td>CM/01900/Dec/17</td>\n",
       "      <td>8.91E+12</td>\n",
       "      <td>8907430000000.00</td>\n",
       "      <td>8907430000000.00</td>\n",
       "      <td>1</td>\n",
       "      <td>5495</td>\n",
       "      <td>5495.0</td>\n",
       "      <td>5495.0</td>\n",
       "      <td>5495.0</td>\n",
       "      <td>0</td>\n",
       "      <td>3</td>\n",
       "    </tr>\n",
       "  </tbody>\n",
       "</table>\n",
       "</div>"
      ],
      "text/plain": [
       "            ModifiedStore ModifiedStoreCode ModifiedTxnDate ModifiedTxnTime  \\\n",
       "0  Guwahati - Fancy Bazar         TLHOS0093      12-01-2017        10:44:52   \n",
       "1           Sikkim Namchi         TLHOS0039      12-01-2017        10:49:29   \n",
       "2               Dibrugarh         TLHOS0088      12-01-2017        10:54:50   \n",
       "3               Dibrugarh         TLHOS0088      12-01-2017        10:54:50   \n",
       "4               Dibrugarh         TLHOS0088      12-01-2017        10:54:50   \n",
       "\n",
       "    ModifiedBillNo UniqueItemName    UniqueItemCode           Barcode  \\\n",
       "0  CM/01426/Dec/17         PLAINS  8907300000000.00  8907300000000.00   \n",
       "1  CM/00923/Dec/17             \\N  8907570000000.00  8907570000000.00   \n",
       "2  CM/01900/Dec/17             \\N  8907570000000.00  8907570000000.00   \n",
       "3  CM/01900/Dec/17        TROUSER  8907570000000.00  8907570000000.00   \n",
       "4  CM/01900/Dec/17       8.91E+12  8907430000000.00  8907430000000.00   \n",
       "\n",
       "   ItemQty ItemMRP  ItemGrossAmount  ItemNetAmount  ItemPaidAmount  \\\n",
       "0        1    1795           1795.0         1795.0          1795.0   \n",
       "1        1    2695           2695.0         2195.0          2195.0   \n",
       "2        1    1995           1995.0         1995.0          1995.0   \n",
       "3        1    1695           1695.0         1695.0          1695.0   \n",
       "4        1    5495           5495.0         5495.0          5495.0   \n",
       "\n",
       "  ItemDiscountAmount  Customer Id  \n",
       "0                  0            1  \n",
       "1                  0            2  \n",
       "2                  0            3  \n",
       "3                  0            3  \n",
       "4                  0            3  "
      ]
     },
     "execution_count": 3,
     "metadata": {},
     "output_type": "execute_result"
    }
   ],
   "source": [
    "df.head()"
   ]
  },
  {
   "cell_type": "code",
   "execution_count": 4,
   "id": "7b21f68a",
   "metadata": {},
   "outputs": [
    {
     "data": {
      "text/plain": [
       "98260"
      ]
     },
     "execution_count": 4,
     "metadata": {},
     "output_type": "execute_result"
    }
   ],
   "source": [
    "df['Customer Id'].nunique()"
   ]
  },
  {
   "cell_type": "code",
   "execution_count": 5,
   "id": "24b99976",
   "metadata": {},
   "outputs": [
    {
     "data": {
      "text/plain": [
       "(283114, 15)"
      ]
     },
     "execution_count": 5,
     "metadata": {},
     "output_type": "execute_result"
    }
   ],
   "source": [
    "df.shape"
   ]
  },
  {
   "cell_type": "markdown",
   "id": "0079a811",
   "metadata": {},
   "source": [
    "### Cleaning the data"
   ]
  },
  {
   "cell_type": "code",
   "execution_count": 6,
   "id": "911ee509",
   "metadata": {},
   "outputs": [
    {
     "data": {
      "text/plain": [
       "ItemQty\n",
       " 1     191374\n",
       " 0      83626\n",
       "-1       6777\n",
       " 2        876\n",
       " 3        261\n",
       " 17       128\n",
       " 4         23\n",
       "-2         21\n",
       " 5         10\n",
       " 6          5\n",
       " 10         5\n",
       "-3          2\n",
       " 8          1\n",
       " 7          1\n",
       " 25         1\n",
       " 16         1\n",
       " 12         1\n",
       " 20         1\n",
       "Name: count, dtype: int64"
      ]
     },
     "execution_count": 6,
     "metadata": {},
     "output_type": "execute_result"
    }
   ],
   "source": [
    "a = df['ItemQty'].value_counts()\n",
    "a"
   ]
  },
  {
   "cell_type": "code",
   "execution_count": 7,
   "id": "3f42f429",
   "metadata": {},
   "outputs": [],
   "source": [
    "df = df.drop(df[df['ItemQty'] < 0].index)"
   ]
  },
  {
   "cell_type": "code",
   "execution_count": 8,
   "id": "a20439a8",
   "metadata": {},
   "outputs": [
    {
     "data": {
      "text/plain": [
       "ItemQty\n",
       "1     191374\n",
       "0      83626\n",
       "2        876\n",
       "3        261\n",
       "17       128\n",
       "4         23\n",
       "5         10\n",
       "6          5\n",
       "10         5\n",
       "8          1\n",
       "7          1\n",
       "25         1\n",
       "16         1\n",
       "12         1\n",
       "20         1\n",
       "Name: count, dtype: int64"
      ]
     },
     "execution_count": 8,
     "metadata": {},
     "output_type": "execute_result"
    }
   ],
   "source": [
    "a = df['ItemQty'].value_counts()\n",
    "a"
   ]
  },
  {
   "cell_type": "code",
   "execution_count": 9,
   "id": "f210f872",
   "metadata": {},
   "outputs": [
    {
     "data": {
      "text/plain": [
       "(276314, 15)"
      ]
     },
     "execution_count": 9,
     "metadata": {},
     "output_type": "execute_result"
    }
   ],
   "source": [
    "df.shape"
   ]
  },
  {
   "cell_type": "code",
   "execution_count": 10,
   "id": "6a6174e2",
   "metadata": {},
   "outputs": [
    {
     "data": {
      "text/html": [
       "<div>\n",
       "<style scoped>\n",
       "    .dataframe tbody tr th:only-of-type {\n",
       "        vertical-align: middle;\n",
       "    }\n",
       "\n",
       "    .dataframe tbody tr th {\n",
       "        vertical-align: top;\n",
       "    }\n",
       "\n",
       "    .dataframe thead th {\n",
       "        text-align: right;\n",
       "    }\n",
       "</style>\n",
       "<table border=\"1\" class=\"dataframe\">\n",
       "  <thead>\n",
       "    <tr style=\"text-align: right;\">\n",
       "      <th></th>\n",
       "      <th>UniqueItemCode</th>\n",
       "      <th>UniqueItemName</th>\n",
       "      <th>BarCode</th>\n",
       "      <th>DepartmentName</th>\n",
       "      <th>DepartmentCode</th>\n",
       "      <th>CategoryName</th>\n",
       "      <th>CategoryCode</th>\n",
       "      <th>SubCategoryName</th>\n",
       "      <th>SubCategoryCode</th>\n",
       "      <th>ItemDescription</th>\n",
       "    </tr>\n",
       "  </thead>\n",
       "  <tbody>\n",
       "    <tr>\n",
       "      <th>0</th>\n",
       "      <td>8900000000000</td>\n",
       "      <td>PLAINS</td>\n",
       "      <td>\\N</td>\n",
       "      <td>OTSH</td>\n",
       "      <td>OTSH</td>\n",
       "      <td>RARE</td>\n",
       "      <td>RARE</td>\n",
       "      <td>PLAINS</td>\n",
       "      <td>PLAINS</td>\n",
       "      <td>SOLIDS</td>\n",
       "    </tr>\n",
       "    <tr>\n",
       "      <th>1</th>\n",
       "      <td>8910000000000</td>\n",
       "      <td>ACCESSORIES</td>\n",
       "      <td>\\N</td>\n",
       "      <td>OTAC</td>\n",
       "      <td>OTAC</td>\n",
       "      <td>NaN</td>\n",
       "      <td>NaN</td>\n",
       "      <td>ACCESSORIES</td>\n",
       "      <td>ACCESSORIES</td>\n",
       "      <td>TIE</td>\n",
       "    </tr>\n",
       "    <tr>\n",
       "      <th>2</th>\n",
       "      <td>45497100001</td>\n",
       "      <td>SOLIDS</td>\n",
       "      <td>\\N</td>\n",
       "      <td>OTTR</td>\n",
       "      <td>OTTR</td>\n",
       "      <td>RELAXED WASH</td>\n",
       "      <td>RELAXED WASH</td>\n",
       "      <td>SOLIDS</td>\n",
       "      <td>SOLIDS</td>\n",
       "      <td>STRIPES</td>\n",
       "    </tr>\n",
       "    <tr>\n",
       "      <th>3</th>\n",
       "      <td>48403100001</td>\n",
       "      <td>ACCESSORIES</td>\n",
       "      <td>\\N</td>\n",
       "      <td>OTAC</td>\n",
       "      <td>OTAC</td>\n",
       "      <td>NaN</td>\n",
       "      <td>NaN</td>\n",
       "      <td>ACCESSORIES</td>\n",
       "      <td>ACCESSORIES</td>\n",
       "      <td>POCKET SQUARE</td>\n",
       "    </tr>\n",
       "    <tr>\n",
       "      <th>4</th>\n",
       "      <td>48405300001</td>\n",
       "      <td>ACCESSORIES</td>\n",
       "      <td>\\N</td>\n",
       "      <td>OTAC</td>\n",
       "      <td>OTAC</td>\n",
       "      <td>NaN</td>\n",
       "      <td>NaN</td>\n",
       "      <td>ACCESSORIES</td>\n",
       "      <td>ACCESSORIES</td>\n",
       "      <td>POCKET SQUARE</td>\n",
       "    </tr>\n",
       "  </tbody>\n",
       "</table>\n",
       "</div>"
      ],
      "text/plain": [
       "  UniqueItemCode UniqueItemName BarCode DepartmentName DepartmentCode  \\\n",
       "0  8900000000000         PLAINS      \\N           OTSH           OTSH   \n",
       "1  8910000000000    ACCESSORIES      \\N           OTAC           OTAC   \n",
       "2    45497100001         SOLIDS      \\N           OTTR           OTTR   \n",
       "3    48403100001    ACCESSORIES      \\N           OTAC           OTAC   \n",
       "4    48405300001    ACCESSORIES      \\N           OTAC           OTAC   \n",
       "\n",
       "   CategoryName  CategoryCode SubCategoryName SubCategoryCode ItemDescription  \n",
       "0          RARE          RARE          PLAINS          PLAINS          SOLIDS  \n",
       "1           NaN           NaN     ACCESSORIES     ACCESSORIES             TIE  \n",
       "2  RELAXED WASH  RELAXED WASH          SOLIDS          SOLIDS         STRIPES  \n",
       "3           NaN           NaN     ACCESSORIES     ACCESSORIES   POCKET SQUARE  \n",
       "4           NaN           NaN     ACCESSORIES     ACCESSORIES   POCKET SQUARE  "
      ]
     },
     "execution_count": 10,
     "metadata": {},
     "output_type": "execute_result"
    }
   ],
   "source": [
    "df2=pd.read_excel('item master.xlsx')\n",
    "df2.head()"
   ]
  },
  {
   "cell_type": "markdown",
   "id": "c8327205",
   "metadata": {},
   "source": [
    "##  Month on Month New Customers Acquired, Total Transacting Customers, Repeat Customers, Bills, Sales"
   ]
  },
  {
   "cell_type": "code",
   "execution_count": 11,
   "id": "bad8ae02",
   "metadata": {},
   "outputs": [
    {
     "name": "stdout",
     "output_type": "stream",
     "text": [
      "   year  month  new_customers\n",
      "0  2017     12          12060\n",
      "1  2018      1          13455\n",
      "2  2018      2           9460\n",
      "3  2018      3           7543\n",
      "4  2018      4          11126\n",
      "5  2018      5           7066\n",
      "6  2018      6          10562\n",
      "7  2018      7          12504\n",
      "8  2018      8           7648\n",
      "9  2018      9           6836\n"
     ]
    }
   ],
   "source": [
    "\n",
    "# Convert the transaction_date column to datetime\n",
    "df['ModifiedTxnDate'] = pd.to_datetime(df['ModifiedTxnDate'],format='mixed')\n",
    "\n",
    "# Find the first purchase date for each customer\n",
    "first_purchase = df.groupby('Customer Id')['ModifiedTxnDate'].min().reset_index()\n",
    "\n",
    "# Extract year and month from the first purchase date\n",
    "first_purchase['year'] = first_purchase['ModifiedTxnDate'].dt.year\n",
    "first_purchase['month'] = first_purchase['ModifiedTxnDate'].dt.month\n",
    "\n",
    "# Count new customers per month\n",
    "new_customers_per_month = first_purchase.groupby(['year', 'month']).size().reset_index(name='new_customers')\n",
    "\n",
    "# Display the result\n",
    "print(new_customers_per_month)\n"
   ]
  },
  {
   "cell_type": "code",
   "execution_count": 26,
   "id": "39e31fd8",
   "metadata": {},
   "outputs": [
    {
     "data": {
      "image/png": "[encoded data removed]",
      "text/plain": [
       "<Figure size 1200x500 with 1 Axes>"
      ]
     },
     "metadata": {},
     "output_type": "display_data"
    }
   ],
   "source": [
    "import matplotlib.pyplot as plt\n",
    "new_customers_per_month['YearMonth'] = new_customers_per_month['year'].astype(str) + '-' + new_customers_per_month['month'].astype(str).str.zfill(2)\n",
    "\n",
    "# Plotting the data\n",
    "plt.figure(figsize=(12, 5))\n",
    "plt.plot(new_customers_per_month['YearMonth'], new_customers_per_month['new_customers'], marker='o', linestyle='-', color='b')\n",
    "\n",
    "# Enhancing the plot\n",
    "plt.title('New Customer acquired Count Growth Trends by Year and Month', fontsize=16)\n",
    "plt.xlabel('Year-Month', fontsize=14)\n",
    "plt.ylabel('Customer Count', fontsize=14)\n",
    "plt.xticks(rotation=45, ha='right')\n",
    "plt.grid(True)\n",
    "\n",
    "plt.show()"
   ]
  },
  {
   "cell_type": "code",
   "execution_count": 27,
   "id": "32e44263",
   "metadata": {},
   "outputs": [
    {
     "name": "stdout",
     "output_type": "stream",
     "text": [
      "   year  month  total_tran_customers\n",
      "0  2017     12                  6199\n",
      "1  2018      1                  8838\n",
      "2  2018      2                  5504\n",
      "3  2018      3                  5099\n",
      "4  2018      4                  8250\n",
      "5  2018      5                  5569\n",
      "6  2018      6                  8311\n",
      "7  2018      7                 12153\n",
      "8  2018      8                  6495\n",
      "9  2018      9                  5740\n"
     ]
    }
   ],
   "source": [
    "df['year'] = df['ModifiedTxnDate'].dt.year\n",
    "df['month'] = df['ModifiedTxnDate'].dt.month\n",
    "total_transacting_customers = df.groupby(['year','month'])['Customer Id'].nunique().reset_index(name='total_tran_customers')\n",
    "print(total_transacting_customers)"
   ]
  },
  {
   "cell_type": "code",
   "execution_count": 28,
   "id": "8c360260",
   "metadata": {},
   "outputs": [],
   "source": [
    "df2=df[df.duplicated(subset=['Customer Id'], keep=False)]"
   ]
  },
  {
   "cell_type": "code",
   "execution_count": 29,
   "id": "fa5c5d55",
   "metadata": {},
   "outputs": [
    {
     "name": "stdout",
     "output_type": "stream",
     "text": [
      "   year  month  Customer Id\n",
      "0  2017     12         6199\n",
      "1  2018      1         8838\n",
      "2  2018      2         5504\n",
      "3  2018      3         5099\n",
      "4  2018      4         8250\n",
      "5  2018      5         5569\n",
      "6  2018      6         8311\n",
      "7  2018      7        12153\n",
      "8  2018      8         6495\n",
      "9  2018      9         5740\n"
     ]
    }
   ],
   "source": [
    "total_transacting_customers = df.groupby(['year','month'])['Customer Id'].nunique().reset_index(name='Customer Id')\n",
    "print(total_transacting_customers)"
   ]
  },
  {
   "cell_type": "code",
   "execution_count": 30,
   "id": "d4e64433",
   "metadata": {},
   "outputs": [
    {
     "name": "stdout",
     "output_type": "stream",
     "text": [
      "Month-on-Month Repeating Customers:\n",
      "    year  month  Repeating Customers\n",
      "0  2018      1                  644\n",
      "1  2018      2                  966\n",
      "2  2018      3                 1023\n",
      "3  2018      4                 1411\n",
      "4  2018      5                 1223\n",
      "5  2018      6                 1949\n",
      "6  2018      7                 2707\n",
      "7  2018      8                 1860\n",
      "8  2018      9                 1607\n",
      "9  2017     12                    0\n"
     ]
    }
   ],
   "source": [
    "# Initialize an empty list to store the results\n",
    "results = []\n",
    "\n",
    "# Iterate through each unique combination of year and month\n",
    "for year in df['year'].unique():\n",
    "    for month in range(1, 13):\n",
    "        if df[(df['year'] == year) & (df['month'] == month)].empty:\n",
    "            continue\n",
    "        \n",
    "        # Customers who made transactions in the current month\n",
    "        current_customers = df[(df['year'] == year) & (df['month'] == month)]['Customer Id'].unique()\n",
    "        \n",
    "        # Customers who made transactions before the current month\n",
    "        previous_customers = df[(df['ModifiedTxnDate'] < f'{year}-{month:02d}-01')]['Customer Id'].unique()\n",
    "        \n",
    "        # Identify repeating customers\n",
    "        repeating_customers = len(set(current_customers) & set(previous_customers))\n",
    "        \n",
    "        # Append the result to the list\n",
    "        results.append({\n",
    "            'year': year,\n",
    "            'month': month,\n",
    "            'Repeating Customers': repeating_customers\n",
    "        })\n",
    "\n",
    "# Convert the results list to a DataFrame\n",
    "repeat_customers_df = pd.DataFrame(results)\n",
    "\n",
    "print(\"Month-on-Month Repeating Customers:\\n\", repeat_customers_df)"
   ]
  },
  {
   "cell_type": "code",
   "execution_count": 31,
   "id": "a4143640",
   "metadata": {},
   "outputs": [
    {
     "data": {
      "image/png": "[encoded data removed]",
      "text/plain": [
       "<Figure size 1200x500 with 1 Axes>"
      ]
     },
     "metadata": {},
     "output_type": "display_data"
    }
   ],
   "source": [
    "repeat_customers_df['YearMonth'] = repeat_customers_df['year'].astype(str) + '-' + repeat_customers_df['month'].astype(str).str.zfill(2)\n",
    "\n",
    "# Plotting the data\n",
    "plt.figure(figsize=(12, 5))\n",
    "plt.plot(repeat_customers_df['YearMonth'], repeat_customers_df['Repeating Customers'], marker='o', linestyle='-', color='b')\n",
    "\n",
    "# Enhancing the plot\n",
    "plt.title('Repeating Customers Growth Trends', fontsize=16)\n",
    "plt.xlabel('Year-Month', fontsize=14)\n",
    "plt.ylabel('Customer Count', fontsize=14)\n",
    "plt.xticks(rotation=45, ha='right')\n",
    "plt.grid(True)\n",
    "\n",
    "plt.show()"
   ]
  },
  {
   "cell_type": "code",
   "execution_count": null,
   "id": "2856e205",
   "metadata": {},
   "outputs": [],
   "source": []
  },
  {
   "cell_type": "code",
   "execution_count": 32,
   "id": "da1b19c0",
   "metadata": {},
   "outputs": [
    {
     "name": "stdout",
     "output_type": "stream",
     "text": [
      "Product Counts Per Bill:\n",
      " ModifiedBillNo\n",
      "CM/00001/Apr/18    99\n",
      "CM/00001/Aug/18     2\n",
      "CM/00001/Jan/18     1\n",
      "CM/00001/Jul/18     2\n",
      "CM/00001/Jun/18     1\n",
      "                   ..\n",
      "CM/05961/Mar/18     5\n",
      "CM/05963/Mar/18     3\n",
      "CM/05964/Mar/18     2\n",
      "CM/05965/Mar/18     6\n",
      "CM/05966/Mar/18     2\n",
      "Name: ItemQty, Length: 21965, dtype: int64\n",
      "\n",
      "Average Products Per Bill: 8.106259959025722\n"
     ]
    }
   ],
   "source": [
    "# Group by Bill Number and count unique items per bill\n",
    "product_counts_per_bill = df.groupby('ModifiedBillNo')['ItemQty'].count()\n",
    "\n",
    "# Calculate the average number of products per bill\n",
    "avg_products_per_bill = product_counts_per_bill.mean()\n",
    "\n",
    "\n",
    "print(\"Product Counts Per Bill:\\n\", product_counts_per_bill)\n",
    "print(\"\\nAverage Products Per Bill:\", avg_products_per_bill)"
   ]
  },
  {
   "cell_type": "code",
   "execution_count": 33,
   "id": "352ec0f6",
   "metadata": {},
   "outputs": [],
   "source": [
    "df.to_csv('product_counts_per_bill')"
   ]
  },
  {
   "cell_type": "code",
   "execution_count": 34,
   "id": "a4be4c18",
   "metadata": {},
   "outputs": [
    {
     "data": {
      "text/plain": [
       "28833198.372915912"
      ]
     },
     "execution_count": 34,
     "metadata": {},
     "output_type": "execute_result"
    }
   ],
   "source": [
    "df['ItemPaidAmount'].mean()\n"
   ]
  },
  {
   "cell_type": "markdown",
   "id": "dd8181b6",
   "metadata": {},
   "source": [
    "## What is the Customer Fall Out Rate, meaning what % of customer base repeats after getting acquired? Show the trend between Lifetime Visits and Customer Count?\n"
   ]
  },
  {
   "cell_type": "code",
   "execution_count": 35,
   "id": "5d1decb2",
   "metadata": {},
   "outputs": [
    {
     "name": "stdout",
     "output_type": "stream",
     "text": [
      "Total Customers: 58768\n",
      "Repeat Customers: 34285\n",
      "Customer Fall Out Rate: 41.66%\n"
     ]
    }
   ],
   "source": [
    "# Identify the total number of unique customers\n",
    "total_customers = df['Customer Id'].nunique()\n",
    "\n",
    "# Identify customers who made more than one purchase\n",
    "repeat_customers = df['Customer Id'].value_counts()\n",
    "repeat_customers = repeat_customers[repeat_customers > 1].index\n",
    "\n",
    "# Number of repeat customers\n",
    "num_repeat_customers = len(repeat_customers)\n",
    "\n",
    "# Calculate the customer fall out rate\n",
    "fall_out_rate = ((total_customers - num_repeat_customers) / total_customers) * 100\n",
    "\n",
    "print(\"Total Customers:\", total_customers)\n",
    "print(\"Repeat Customers:\", num_repeat_customers)\n",
    "print(\"Customer Fall Out Rate: {:.2f}%\".format(fall_out_rate))\n"
   ]
  },
  {
   "cell_type": "code",
   "execution_count": 36,
   "id": "a2566cec",
   "metadata": {},
   "outputs": [
    {
     "data": {
      "image/png": "[encoded data removed]",
      "text/plain": [
       "<Figure size 1000x600 with 1 Axes>"
      ]
     },
     "metadata": {},
     "output_type": "display_data"
    },
    {
     "name": "stdout",
     "output_type": "stream",
     "text": [
      "    LifetimeVisits  CustomerCount\n",
      "0                1          24483\n",
      "1                2          11222\n",
      "2                3           8688\n",
      "3                4           4471\n",
      "4                5           2930\n",
      "..             ...            ...\n",
      "83             125              1\n",
      "84             134              1\n",
      "85             138              1\n",
      "86             227              1\n",
      "87             563              1\n",
      "\n",
      "[88 rows x 2 columns]\n"
     ]
    }
   ],
   "source": [
    "\n",
    "\n",
    "# Calculate lifetime visits for each customer\n",
    "lifetime_visits = df['Customer Id'].value_counts().reset_index()\n",
    "lifetime_visits.columns = ['Customer Id', 'VisitCount']\n",
    "\n",
    "# Group by visit count to find number of customers with each visit count\n",
    "visit_trend = lifetime_visits.groupby('VisitCount')['Customer Id'].count().reset_index()\n",
    "visit_trend.columns = ['LifetimeVisits', 'CustomerCount']\n",
    "\n",
    "# Plotting the trend\n",
    "plt.figure(figsize=(10, 6))\n",
    "plt.plot(visit_trend['LifetimeVisits'], visit_trend['CustomerCount'], marker='o')\n",
    "plt.title('Trend between Lifetime Visits and Customer Count')\n",
    "plt.xlabel('Lifetime Visits')\n",
    "plt.ylabel('Customer Count')\n",
    "plt.grid(True)\n",
    "plt.show()\n",
    "\n",
    "print(visit_trend)\n"
   ]
  },
  {
   "cell_type": "markdown",
   "id": "22ac5292",
   "metadata": {},
   "source": [
    "# Of the customers who Repeat, what is the average gap between any 2 successive visits? "
   ]
  },
  {
   "cell_type": "code",
   "execution_count": 37,
   "id": "05dc7ced",
   "metadata": {},
   "outputs": [
    {
     "name": "stdout",
     "output_type": "stream",
     "text": [
      "       Customer Id  Average_Gap\n",
      "0                2    85.500000\n",
      "1                3     0.000000\n",
      "2                6     0.801887\n",
      "3                8     8.625000\n",
      "4               12     5.625000\n",
      "...            ...          ...\n",
      "34280        98247     0.000000\n",
      "34281        98252     0.000000\n",
      "34282        98254     0.000000\n",
      "34283        98259     0.000000\n",
      "34284        98260     0.000000\n",
      "\n",
      "[34285 rows x 2 columns]\n"
     ]
    }
   ],
   "source": [
    "\n",
    "# Convert 'Date' column to datetime\n",
    "#df['Date'] = pd.to_datetime(df['Date'])\n",
    "\n",
    "# Sort by Cust_ID and Date\n",
    "df = df.sort_values(by=['Customer Id', 'ModifiedTxnDate'])\n",
    "\n",
    "# Calculate the gap between successive visits\n",
    "df['Gap'] = df.groupby('Customer Id')['ModifiedTxnDate'].diff().dt.days\n",
    "\n",
    "# Drop the first NaN values which result from the diff operation\n",
    "df = df.dropna()\n",
    "\n",
    "# Calculate the average gap for each customer\n",
    "average_gaps = df.groupby('Customer Id')['Gap'].mean().reset_index()\n",
    "\n",
    "# Rename columns for clarity\n",
    "average_gaps.columns = ['Customer Id', 'Average_Gap']\n",
    "\n",
    "print(average_gaps)"
   ]
  },
  {
   "cell_type": "code",
   "execution_count": 38,
   "id": "3f9c9597",
   "metadata": {},
   "outputs": [
    {
     "data": {
      "text/plain": [
       "8.520163152512318"
      ]
     },
     "execution_count": 38,
     "metadata": {},
     "output_type": "execute_result"
    }
   ],
   "source": [
    "average_gaps = df.groupby('Customer Id')['Gap'].mean()\n",
    "average_gaps.mean()"
   ]
  },
  {
   "cell_type": "markdown",
   "id": "dad26291",
   "metadata": {},
   "source": [
    "# Product afinity"
   ]
  },
  {
   "cell_type": "code",
   "execution_count": 39,
   "id": "bb312d47",
   "metadata": {},
   "outputs": [
    {
     "name": "stdout",
     "output_type": "stream",
     "text": [
      "\n",
      "Product Affinity:\n",
      "   (0, 2)\t487\n",
      "  (0, 3)\t705\n",
      "  (0, 4)\t8\n",
      "  (0, 5)\t21\n",
      "  (0, 6)\t157\n",
      "  (0, 57)\t29\n",
      "  (0, 59)\t130\n",
      "  (0, 60)\t226\n",
      "  (0, 294)\t88\n",
      "  (0, 338)\t21\n",
      "  (0, 419)\t4\n",
      "  (0, 496)\t3\n",
      "  (0, 636)\t1\n",
      "  (0, 656)\t1\n",
      "  (0, 710)\t1\n",
      "  (0, 806)\t5\n",
      "  (0, 899)\t1\n",
      "  (0, 1009)\t1\n",
      "  (0, 1031)\t1\n",
      "  (0, 1044)\t1\n",
      "  (0, 1162)\t1\n",
      "  (0, 1215)\t1\n",
      "  (0, 1257)\t1\n",
      "  (0, 1387)\t1\n",
      "  (0, 1423)\t1\n",
      "  :\t:\n",
      "  (16140, 0)\t1\n",
      "  (16141, 16225)\t1\n",
      "  (16143, 0)\t1\n",
      "  (16145, 0)\t1\n",
      "  (16151, 0)\t1\n",
      "  (16151, 3)\t1\n",
      "  (16152, 0)\t1\n",
      "  (16157, 0)\t1\n",
      "  (16157, 3)\t1\n",
      "  (16158, 0)\t1\n",
      "  (16158, 3)\t1\n",
      "  (16163, 16211)\t1\n",
      "  (16165, 0)\t1\n",
      "  (16165, 3)\t1\n",
      "  (16172, 0)\t1\n",
      "  (16178, 0)\t1\n",
      "  (16178, 3)\t1\n",
      "  (16185, 0)\t1\n",
      "  (16212, 3)\t1\n",
      "  (16222, 0)\t1\n",
      "  (16222, 2)\t1\n",
      "  (16222, 3)\t1\n",
      "  (16222, 57)\t1\n",
      "  (16229, 60)\t1\n",
      "  (16229, 294)\t1\n",
      "\n",
      "Category Popularity:\n",
      "         UniqueItemName  ItemNetAmount\n",
      "3      8910000000000.0    86412136.73\n",
      "7             8.91E+12    16914034.26\n",
      "16228               \\N     4387938.12\n",
      "16221           PLAINS      349698.39\n",
      "16220    JEANS TROUSER      160803.97\n",
      "16219           JACKET      143971.77\n",
      "2      8900000000000.0      134673.30\n",
      "16226          TROUSER      128719.54\n",
      "13434      ACCESSORIES      128331.96\n",
      "16225             SUIT       72947.85\n",
      "\n",
      "Weekday Sales: 87921201.95\n",
      "Weekend Sales: 61001250.04\n"
     ]
    }
   ],
   "source": [
    "import pandas as pd\n",
    "from scipy.sparse import coo_matrix\n",
    "from itertools import combinations\n",
    "import numpy as np\n",
    "\n",
    "# Load the CSV file into a DataFrame\n",
    "#df = pd.read_csv('reduced_file.csv')\n",
    "\n",
    "# Convert the 'ModifiedTxnDate' column to datetime format\n",
    "df['ModifiedTxnDate'] = pd.to_datetime(df['ModifiedTxnDate'], format='mixed', errors='coerce')\n",
    "\n",
    "# Extract the day of the week from the 'ModifiedTxnDate' column\n",
    "df['DayOfWeek'] = df['ModifiedTxnDate'].dt.day_name()\n",
    "\n",
    "# Create a boolean column to identify weekdays and weekends\n",
    "df['IsWeekend'] = df['DayOfWeek'].isin(['Saturday', 'Sunday'])\n",
    "\n",
    "# Map unique 'UniqueItemCode' values to integer values\n",
    "unique_items = df['UniqueItemCode'].unique()\n",
    "item_mapping = {item: idx for idx, item in enumerate(unique_items)}\n",
    "\n",
    "# Calculate product affinity (based on co-occurrence of items in the same transaction)\n",
    "product_affinity = coo_matrix((len(unique_items), len(unique_items)), dtype=np.int64)\n",
    "batch_size = 10000  # Adjust the batch size as per your system's memory capacity\n",
    "for start in range(0, len(df), batch_size):\n",
    "    end = start + batch_size\n",
    "    batch_df = df.iloc[start:end]\n",
    "    item_pairs = batch_df.groupby('ModifiedBillNo')['UniqueItemCode'].apply(lambda x: list(combinations(x.unique(), 2))).explode().reset_index()\n",
    "    item_pairs.columns = ['ModifiedBillNo', 'item_pair']\n",
    "    item_pairs['count'] = 1\n",
    "    item_pairs['item_pair'] = item_pairs['item_pair'].apply(lambda x: tuple(item_mapping[item] for item in x) if pd.notnull(x) else tuple())\n",
    "    item_pairs = item_pairs[item_pairs['item_pair'] != tuple()]\n",
    "    item_pairs = item_pairs.groupby('item_pair')['count'].sum().reset_index()\n",
    "    row, col = zip(*item_pairs['item_pair'])\n",
    "    data = item_pairs['count'].tolist()\n",
    "    batch_affinity = coo_matrix((data, (row, col)), shape=(len(unique_items), len(unique_items)))\n",
    "    product_affinity += batch_affinity\n",
    "\n",
    "print(\"\\nProduct Affinity:\\n\", product_affinity)\n",
    "\n",
    "# Calculate category popularity\n",
    "category_popularity = df.groupby('UniqueItemName')['ItemNetAmount'].sum().reset_index().sort_values('ItemNetAmount', ascending=False)\n",
    "print(\"\\nCategory Popularity:\\n\", category_popularity.head(10))\n",
    "\n",
    "# Compare weekday vs. weekend sales\n",
    "weekday_sales = df[~df['IsWeekend']]['ItemNetAmount'].sum()\n",
    "weekend_sales = df[df['IsWeekend']]['ItemNetAmount'].sum()\n",
    "print(f\"\\nWeekday Sales: {weekday_sales:.2f}\")\n",
    "print(f\"Weekend Sales: {weekend_sales:.2f}\")\n",
    "\n",
    "# Other potential analysis\n",
    "# - Time-series analysis of sales trends\n",
    "# - Customer segmentation and analysis\n",
    "# - Promotional effectiveness analysis\n",
    "\n",
    "# Observations and recommendations\n",
    "# ... (same as before)"
   ]
  },
  {
   "cell_type": "code",
   "execution_count": null,
   "id": "b8167cf4",
   "metadata": {},
   "outputs": [],
   "source": [
    "\n"
   ]
  },
  {
   "cell_type": "code",
   "execution_count": null,
   "id": "dd3cc384",
   "metadata": {},
   "outputs": [],
   "source": []
  },
  {
   "cell_type": "code",
   "execution_count": null,
   "id": "b5fab8c0",
   "metadata": {},
   "outputs": [],
   "source": []
  }
 ],
 "metadata": {
  "kernelspec": {
   "display_name": "conda_python3",
   "language": "python",
   "name": "conda_python3"
  },
  "language_info": {
   "codemirror_mode": {
    "name": "ipython",
    "version": 3
   },
   "file_extension": ".py",
   "mimetype": "text/x-python",
   "name": "python",
   "nbconvert_exporter": "python",
   "pygments_lexer": "ipython3",
   "version": "3.10.14"
  }
 },
 "nbformat": 4,
 "nbformat_minor": 5
}
